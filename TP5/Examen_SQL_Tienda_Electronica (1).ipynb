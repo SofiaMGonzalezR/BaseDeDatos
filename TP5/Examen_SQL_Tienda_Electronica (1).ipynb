{
 "cells": [
  {
   "cell_type": "markdown",
   "id": "03e3d8da",
   "metadata": {},
   "source": [
    "## Examen SQL: Sistema de Gestión de una Tienda de Electrónica"
   ]
  },
  {
   "cell_type": "markdown",
   "id": "68a29b64",
   "metadata": {},
   "source": [
    "\n",
    "**Código de inicialización**\n",
    "\n",
    "Este código permite inicializar las bibliotecas para usar SQLite en la máquina virtual de Google Colab. Además, elimina cualquier dato almacenado anteriormente en el archivo `tienda.db`. Es recomendable volver a ejecutar el código cada vez que se comience con la resolución de un nuevo ejercicio.\n"
   ]
  },
  {
   "cell_type": "markdown",
   "id": "15fc9678",
   "metadata": {},
   "source": [
    "\n",
    "**Enunciado:**\n",
    "\n",
    "Estás encargado de diseñar una base de datos para una tienda de electrónica, con el objetivo de gestionar eficientemente la información sobre los productos, las ventas y los clientes. La base de datos debe contener tablas que representen los productos, los clientes y las transacciones de ventas, además de las relaciones entre estas entidades.\n"
   ]
  },
  {
   "cell_type": "markdown",
   "id": "0c8df6bc",
   "metadata": {},
   "source": [
    "\n",
    "### Ejercicios:\n",
    "\n",
    "**Creación de Tablas**:\n",
    "1. Define las siguientes tablas usando sentencias SQL:\n",
    "   - **Producto**: Campos `id_producto` (clave primaria), `nombre`, `marca`, `precio`, `stock` y `fecha_ingreso`.\n",
    "   - **Cliente**: Campos `id_cliente` (clave primaria), `nombre`, `direccion`, `telefono` y `correo_electronico`.\n",
    "   - **Venta**: Campos `id_venta` (clave primaria), `id_cliente` (clave foránea), `id_producto` (clave foránea), `cantidad`, `fecha_venta` y `total`.\n"
   ]
  },
  {
   "cell_type": "markdown",
   "id": "73dfc7d6",
   "metadata": {},
   "source": [
    "2. **DBML del Esquema de Tablas**: Genera el código DBML del diseño de las tablas anteriores utilizando [dbdiagram.io](https://dbdiagram.io). Asegúrate de incluir todas las relaciones y restricciones."
   ]
  },
  {
   "cell_type": "markdown",
   "id": "f823358f",
   "metadata": {},
   "source": [
    "\n",
    "3. **Carga de Datos**: Inserta datos de ejemplo: al menos 6 productos, 4 clientes y 10 registros de ventas en las tablas correspondientes."
   ]
  },
  {
   "cell_type": "markdown",
   "id": "8fe9bc81",
   "metadata": {},
   "source": [
    "\n",
    "**Consultas SQL**:\n",
    "\n",
    "4. **Listado de Productos**: Muestra todos los productos disponibles ordenados por precio en forma ascendente.\n",
    "\n",
    "5. **Clientes con Compras Altas**: Lista los clientes que hayan realizado una compra con un total mayor a 500. Incluye `id_cliente`, `nombre` y `total`.\n",
    "\n",
    "6. **Ventas Recientes**: Muestra las últimas 5 ventas realizadas. Incluye `id_venta`, `fecha_venta`, `id_producto`, `cantidad` y `total`.\n",
    "\n",
    "7. **Productos con Bajo Stock**: Muestra los productos cuyo stock sea menor a 10 unidades. Incluye `id_producto`, `nombre`, `stock` y `precio`.\n",
    "\n",
    "8. **Ventas por Cliente**: Muestra el total de ventas realizadas por cada cliente, ordenado de mayor a menor. Incluye `id_cliente`, `nombre` y `total_ventas`.\n",
    "\n",
    "9. **Ventas Totales por Producto**: Calcula el número total de unidades vendidas por cada producto. Incluye `id_producto`, `nombre` y `total_vendido`.\n",
    "\n",
    "10. **Productos Más Vendidos**: Lista los productos que han sido vendidos en más de 3 transacciones distintas.\n"
   ]
  }
 ],
 "metadata": {
  "language_info": {
   "name": "python"
  }
 },
 "nbformat": 4,
 "nbformat_minor": 5
}
